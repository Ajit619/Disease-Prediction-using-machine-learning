{
  "nbformat": 4,
  "nbformat_minor": 0,
  "metadata": {
    "colab": {
      "name": "Untitled0.ipynb",
      "provenance": [],
      "collapsed_sections": [],
      "authorship_tag": "ABX9TyPqBQQojjRrnIUYu3m3MJAS",
      "include_colab_link": true
    },
    "kernelspec": {
      "name": "python3",
      "display_name": "Python 3"
    },
    "language_info": {
      "name": "python"
    }
  },
  "cells": [
    {
      "cell_type": "markdown",
      "metadata": {
        "id": "view-in-github",
        "colab_type": "text"
      },
      "source": [
        "<a href=\"https://colab.research.google.com/github/Ajit619/Disease-Prediction-using-machine-learning/blob/main/Ajitkumar_Sharma_Image_to_pencil.ipynb\" target=\"_parent\"><img src=\"https://colab.research.google.com/assets/colab-badge.svg\" alt=\"Open In Colab\"/></a>"
      ]
    },
    {
      "cell_type": "markdown",
      "metadata": {
        "id": "JfjtOX9HBPui"
      },
      "source": [
        "**NAME:SHARMA AJITKUMAR VISHWAKARMA**\n",
        "\n",
        "**datascience september 2021 batch intern**\n",
        "\n",
        "**LetsGrowMore VIP**\n",
        "\n",
        "\n",
        "Task-1: Image to Pencil Sketch with Python:\n",
        "\n",
        "We need to read the image in RBG format and then convert it to a grayscale image. This will turn an image into a classic black and white photo. Then the next thing to do is invert the grayscale image also called negative image, this will be our inverted grayscale image. Inversion can be used to enhance details. Then we can finally create the pencil sketch by mixing the grayscale image with the inverted blurry image. This can be done by dividing the grayscale image by the inverted blurry image. Since images are just arrays, we can easily do this programmatically using the divide function from the cv2 library in Python. "
      ]
    },
    {
      "cell_type": "code",
      "metadata": {
        "id": "Ca4RPn82A3Vi"
      },
      "source": [
        "#importing requried libraries\n",
        "import cv2\n",
        "from google.colab.patches import cv2_imshow"
      ],
      "execution_count": null,
      "outputs": []
    }
  ]
}